{
  "nbformat": 4,
  "nbformat_minor": 0,
  "metadata": {
    "colab": {
      "provenance": [],
      "authorship_tag": "ABX9TyNdGICGTvdvF3POm2XEqkCp",
      "include_colab_link": true
    },
    "kernelspec": {
      "name": "python3",
      "display_name": "Python 3"
    },
    "language_info": {
      "name": "python"
    }
  },
  "cells": [
    {
      "cell_type": "markdown",
      "metadata": {
        "id": "view-in-github",
        "colab_type": "text"
      },
      "source": [
        "<a href=\"https://colab.research.google.com/github/john-caballero/Perfilamiento-basico/blob/main/sesion2/Laboratorio_2_%E2%80%94_Correlacion_Asociacion_y_Arboles_de_decision.ipynb\" target=\"_parent\"><img src=\"https://colab.research.google.com/assets/colab-badge.svg\" alt=\"Open In Colab\"/></a>"
      ]
    },
    {
      "cell_type": "markdown",
      "source": [
        "## **Laboratorio 2 — Correlación, Asociación y Árboles de Decisión**"
      ],
      "metadata": {
        "id": "yjGJiZyRcueo"
      }
    },
    {
      "cell_type": "markdown",
      "source": [
        "---\n",
        "\n",
        "**Objetivos**\n",
        "\n",
        "- Medir y visualizar relaciones entre variables numéricas y categóricas.\n",
        "\n",
        "- Identificar variables asociadas al riesgo o valor del cliente.\n",
        "\n",
        "- Construir un árbol de decisión interpretativo para explicar un outcome (ej. default o compra).\n",
        "\n",
        "- Traducir hallazgos en reglas de negocio o segmentos accionables."
      ],
      "metadata": {
        "id": "3GhhUFjIc3E5"
      }
    },
    {
      "cell_type": "markdown",
      "source": [
        "**Índice**\n",
        "\n",
        "- Cargar datos y preprocesamiento\n",
        "\n",
        "- Correlaciones entre variables numéricas\n",
        "\n",
        "- Asociación entre variables categóricas\n",
        "\n",
        "- Árbol de decisión interpretativo\n",
        "\n",
        "- Importancia y reglas extraídas\n",
        "\n",
        "- Insights y decisiones"
      ],
      "metadata": {
        "id": "DxwW8ZUxc-KU"
      }
    },
    {
      "cell_type": "markdown",
      "source": [
        "## 1) Cargar datos y preprocesamiento"
      ],
      "metadata": {
        "id": "5wZTOhOedFT3"
      }
    },
    {
      "cell_type": "code",
      "execution_count": null,
      "metadata": {
        "id": "tcwGgo6ycgrZ"
      },
      "outputs": [],
      "source": [
        "import pandas as pd, numpy as np\n",
        "import seaborn as sns\n",
        "import matplotlib.pyplot as plt\n",
        "\n",
        "# df = pd.read_csv(\"tu_archivo.csv\")  # o read_excel(...)\n",
        "df = df.copy()  # si ya está cargado\n",
        "\n",
        "target = \"DEF12\"  # o la variable objetivo relevante\n",
        "num_cols = df.select_dtypes(\"number\").columns.tolist()\n",
        "cat_cols = [c for c in df.select_dtypes(\"object\").columns if df[c].nunique() < 20]\n",
        "\n",
        "df[num_cols] = df[num_cols].apply(pd.to_numeric, errors=\"coerce\")\n",
        "print(df[num_cols].describe(percentiles=[.25,.5,.75]).T)\n"
      ]
    },
    {
      "cell_type": "markdown",
      "source": [
        "## 2) Correlaciones entre variables numéricas\n",
        "\n"
      ],
      "metadata": {
        "id": "85PLnU69dPhk"
      }
    },
    {
      "cell_type": "markdown",
      "source": [
        "**Concepto:** mide la fuerza y dirección lineal o monótona de la relación entre dos variables."
      ],
      "metadata": {
        "id": "hISEkokjdR7g"
      }
    },
    {
      "cell_type": "code",
      "source": [
        "corr_pearson = df[num_cols].corr(method=\"pearson\")\n",
        "corr_spearman = df[num_cols].corr(method=\"spearman\")\n",
        "\n",
        "plt.figure(figsize=(10,6))\n",
        "sns.heatmap(corr_spearman, cmap=\"coolwarm\", center=0)\n",
        "plt.title(\"Correlación (Spearman)\")\n",
        "plt.show()\n",
        "\n",
        "# Top correlaciones con la variable objetivo\n",
        "target_corr = corr_spearman[target].sort_values(ascending=False)\n",
        "target_corr.head(10)\n"
      ],
      "metadata": {
        "id": "9A242QvBdX9V"
      },
      "execution_count": null,
      "outputs": []
    },
    {
      "cell_type": "markdown",
      "source": [
        "**Interpretación:**\n",
        "\n",
        "Correlaciones positivas (+) → variables que crecen juntas.\n",
        "\n",
        "Correlaciones negativas → relaciones inversas.\n",
        "\n",
        "Ideal discutir casos donde hay alta correlación entre predictores (riesgo de multicolinealidad)."
      ],
      "metadata": {
        "id": "uzCdSUg6dcwx"
      }
    },
    {
      "cell_type": "markdown",
      "source": [
        "## 3) Asociación entre variables categóricas\n",
        "\n",
        "**Concepto:** mide dependencia entre variables cualitativas (no ordinales)."
      ],
      "metadata": {
        "id": "FdVzZQiHdj_b"
      }
    },
    {
      "cell_type": "code",
      "source": [
        "from scipy.stats import chi2_contingency\n",
        "import itertools\n",
        "\n",
        "def cramers_v(x, y):\n",
        "    tabla = pd.crosstab(x, y)\n",
        "    chi2 = chi2_contingency(tabla)[0]\n",
        "    n = tabla.sum().sum()\n",
        "    phi2 = chi2 / n\n",
        "    r, k = tabla.shape\n",
        "    return np.sqrt(phi2 / (min(k-1, r-1)))\n",
        "\n",
        "asoc = []\n",
        "for c1, c2 in itertools.combinations(cat_cols, 2):\n",
        "    asoc.append((c1, c2, cramers_v(df[c1], df[c2])))\n",
        "asoc_df = pd.DataFrame(asoc, columns=[\"Var1\",\"Var2\",\"CramérV\"]).sort_values(\"CramérV\", ascending=False)\n",
        "asoc_df.head(10)\n"
      ],
      "metadata": {
        "id": "ceZoqrnydrX_"
      },
      "execution_count": null,
      "outputs": []
    },
    {
      "cell_type": "markdown",
      "source": [
        "**Interpretación:**\n",
        "\n",
        "Cramér’s V mide la intensidad de asociación (0 = ninguna, 1 = perfecta).\n",
        "\n",
        "Ideal para variables de tipo “segmento”, “producto”, “canal”."
      ],
      "metadata": {
        "id": "L9peMZ-ldxq8"
      }
    },
    {
      "cell_type": "markdown",
      "source": [
        "## 4) Árbol de decisión interpretativo\n"
      ],
      "metadata": {
        "id": "-FGtTQyrd8Au"
      }
    },
    {
      "cell_type": "markdown",
      "source": [
        "**Concepto:** un árbol divide el espacio de variables en reglas que maximizan la pureza de los grupos (criterio Gini o Entropía)."
      ],
      "metadata": {
        "id": "SPk2dz5fd_7L"
      }
    },
    {
      "cell_type": "code",
      "source": [
        "from sklearn.tree import DecisionTreeClassifier, plot_tree\n",
        "from sklearn.model_selection import train_test_split\n",
        "\n",
        "X = df[num_cols].drop(columns=[target], errors=\"ignore\").fillna(0)\n",
        "y = df[target]\n",
        "\n",
        "X_train, X_test, y_train, y_test = train_test_split(X, y, test_size=0.3, random_state=42)\n",
        "\n",
        "tree = DecisionTreeClassifier(max_depth=4, min_samples_leaf=100, random_state=42)\n",
        "tree.fit(X_train, y_train)\n",
        "\n",
        "plt.figure(figsize=(18,8))\n",
        "plot_tree(tree, feature_names=X.columns, class_names=[\"NoDefault\",\"Default\"], filled=True, fontsize=10)\n",
        "plt.title(\"Árbol de Decisión - Drivers del Default\")\n",
        "plt.show()\n"
      ],
      "metadata": {
        "id": "4qacjKLGeB5m"
      },
      "execution_count": null,
      "outputs": []
    },
    {
      "cell_type": "markdown",
      "source": [
        "**Importancia y reglas extraídas**"
      ],
      "metadata": {
        "id": "moory6dveFEQ"
      }
    },
    {
      "cell_type": "code",
      "source": [
        "imp = pd.DataFrame({\n",
        "    \"Variable\": X.columns,\n",
        "    \"Importancia\": tree.feature_importances_\n",
        "}).sort_values(\"Importancia\", ascending=False)\n",
        "imp.head(10)\n",
        "\n",
        "from sklearn.metrics import classification_report\n",
        "y_pred = tree.predict(X_test)\n",
        "print(classification_report(y_test, y_pred))\n"
      ],
      "metadata": {
        "id": "EUeRoByheIaZ"
      },
      "execution_count": null,
      "outputs": []
    },
    {
      "cell_type": "markdown",
      "source": [
        "**Lectura:**\n",
        "\n",
        "- Las variables con mayor importancia explican mejor la variación del target.\n",
        "\n",
        "- Las ramas del árbol equivalen a reglas automáticas de segmentación, útiles para campañas o políticas de riesgo."
      ],
      "metadata": {
        "id": "WK7ZjV33eLqT"
      }
    },
    {
      "cell_type": "markdown",
      "source": [
        "**Tarea en clase**\n",
        "\n",
        "- Selecciona 2 variables con alta correlación y explica su relación.\n",
        "\n",
        "- Identifica una asociación categórica relevante.\n",
        "\n",
        "- Interpreta las 3 primeras reglas del árbol como segmentos con posible acción (campaña, precio, validación)."
      ],
      "metadata": {
        "id": "e6R-ssjeeSvQ"
      }
    },
    {
      "cell_type": "code",
      "source": [],
      "metadata": {
        "id": "ueyp9bIPebJL"
      },
      "execution_count": null,
      "outputs": []
    },
    {
      "cell_type": "markdown",
      "source": [
        "---\n",
        "\n",
        "# Gracias por completar este laboratorio!\n",
        "\n",
        "---\n"
      ],
      "metadata": {
        "id": "LzJpfQ8jebZ3"
      }
    }
  ]
}