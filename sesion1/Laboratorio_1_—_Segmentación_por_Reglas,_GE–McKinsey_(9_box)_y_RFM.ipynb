{
  "nbformat": 4,
  "nbformat_minor": 0,
  "metadata": {
    "colab": {
      "provenance": [],
      "authorship_tag": "ABX9TyMcjPgtNQCybIcUtZAGl4Zq",
      "include_colab_link": true
    },
    "kernelspec": {
      "name": "python3",
      "display_name": "Python 3"
    },
    "language_info": {
      "name": "python"
    }
  },
  "cells": [
    {
      "cell_type": "markdown",
      "metadata": {
        "id": "view-in-github",
        "colab_type": "text"
      },
      "source": [
        "<a href=\"https://colab.research.google.com/github/john-caballero/Perfilamiento-basico/blob/main/sesion1/Laboratorio_1_%E2%80%94_Segmentaci%C3%B3n_por_Reglas%2C_GE%E2%80%93McKinsey_(9_box)_y_RFM.ipynb\" target=\"_parent\"><img src=\"https://colab.research.google.com/assets/colab-badge.svg\" alt=\"Open In Colab\"/></a>"
      ]
    },
    {
      "cell_type": "markdown",
      "source": [
        "## **Laboratorio 1 — Segmentación por Reglas, GE–McKinsey (9-box) y RFM**"
      ],
      "metadata": {
        "id": "vLSuU48kQcjt"
      }
    },
    {
      "cell_type": "markdown",
      "source": [
        "---\n",
        "\n",
        "**Objetivos**\n",
        "\n",
        "- Construir 3–6 segmentos con reglas simples.\n",
        "\n",
        "- Priorizar segmentos con GE–McKinsey (Atractividad × Fuerza).\n",
        "\n",
        "- Etiquetar clientes con RFM (quintiles) y proponer 2–3 acciones."
      ],
      "metadata": {
        "id": "CfPSRIflQjLD"
      }
    },
    {
      "cell_type": "markdown",
      "source": [
        "**Índice**\n",
        "\n",
        "- Cargar datos\n",
        "\n",
        "- Chequeos rápidos\n",
        "\n",
        "- Segmentación por reglas\n",
        "\n",
        "- 9-box GE–McKinsey\n",
        "\n",
        "- RFM (quintiles + etiquetas)\n",
        "\n",
        "- Salidas y decisiones"
      ],
      "metadata": {
        "id": "TaEz_uesQsQK"
      }
    },
    {
      "cell_type": "markdown",
      "source": [
        "## 1) Cargar datos"
      ],
      "metadata": {
        "id": "UlfpcqIhQy0O"
      }
    },
    {
      "cell_type": "code",
      "execution_count": null,
      "metadata": {
        "id": "ZuJw69t2PmMB"
      },
      "outputs": [],
      "source": [
        "import pandas as pd, numpy as np\n",
        "\n",
        "# Reemplaza por tu ruta:\n",
        "# df = pd.read_csv(\"tu_archivo.csv\")  # o read_excel(...)\n",
        "df = df.copy()  # si ya lo cargaste antes\n"
      ]
    },
    {
      "cell_type": "markdown",
      "source": [
        "## 2) Chequeos rápidos"
      ],
      "metadata": {
        "id": "9xvT0m96Q5TW"
      }
    },
    {
      "cell_type": "code",
      "source": [
        "num_cols = [\"MONTO\",\"PLAZO\",\"DEF12\",\"PD_FINAL2\",\"MTO_DEURCCVIG_AVGU12\",\n",
        "            \"R_MTODEURCCVIG_AVGU06_AVGU12\",\"FRQ_ABO_GT100U12\",\"MTO_ABO_AVGU12\",\n",
        "            \"R_ABO_AVGU06_AVGU12\",\"MTO_TRX_AVGU12\",\"MTO_TRXNET_AVGU12\",\n",
        "            \"FRQ_PASPM_GT1000U12\",\"MTO_PAS_AVGU12\",\"R_PASPM_U06U12\"]\n",
        "\n",
        "for c in num_cols:\n",
        "    if c in df: df[c] = pd.to_numeric(df[c], errors=\"coerce\")\n",
        "\n",
        "print(\"NAs (%) top 10:\\n\", df.isna().mean().sort_values(ascending=False).head(10))\n",
        "df[num_cols].describe(percentiles=[.33,.66,.9]).T\n"
      ],
      "metadata": {
        "id": "n5RvT446Q6qv"
      },
      "execution_count": null,
      "outputs": []
    },
    {
      "cell_type": "markdown",
      "source": [
        "## 3) Segmentación por reglas (simple)"
      ],
      "metadata": {
        "id": "xRIGgRYCQ-Ku"
      }
    },
    {
      "cell_type": "code",
      "source": [
        "# Umbrales básicos (si no hay PD_FINAL2, salta a DEF12 por grupo si aplica)\n",
        "\n",
        "p33 = df[\"PD_FINAL2\"].quantile(.33) if \"PD_FINAL2\" in df else np.nan\n",
        "p66 = df[\"PD_FINAL2\"].quantile(.66) if \"PD_FINAL2\" in df else np.nan\n",
        "\n",
        "frq66 = df[\"FRQ_ABO_GT100U12\"].quantile(.66) if \"FRQ_ABO_GT100U12\" in df else np.nan\n",
        "\n",
        "abo66 = df[\"MTO_ABO_AVGU12\"].quantile(.66) if \"MTO_ABO_AVGU12\" in df else np.nan\n",
        "\n",
        "monto66 = df[\"MONTO\"].quantile(.66) if \"MONTO\" in df else np.nan\n"
      ],
      "metadata": {
        "id": "9BoGgMKlQ8kw"
      },
      "execution_count": null,
      "outputs": []
    },
    {
      "cell_type": "code",
      "source": [
        "cond1 = (\"PD_FINAL2\" in df) & (\"FRQ_ABO_GT100U12\" in df) & (\"MTO_ABO_AVGU12\" in df) \\\n",
        "        and (df[\"PD_FINAL2\"] <= p33) & (df[\"FRQ_ABO_GT100U12\"] >= frq66) & (df[\"MTO_ABO_AVGU12\"] >= abo66)\n",
        "\n",
        "cond2 = (\"PD_FINAL2\" in df) & (\"MONTO\" in df) \\\n",
        "        and (df[\"PD_FINAL2\"].between(p33, p66, inclusive=\"right\")) & (df[\"MONTO\"] >= monto66)\n",
        "\n",
        "cond3 = (\"PD_FINAL2\" in df) & (\"FRQ_ABO_GT100U12\" in df) \\\n",
        "        and (df[\"PD_FINAL2\"] > p66) & (df[\"FRQ_ABO_GT100U12\"] < df[\"FRQ_ABO_GT100U12\"].quantile(.33))\n",
        "\n",
        "cond4 = (\"FLG_REENGANCHE_FINAL\" in df) and (df[\"FLG_REENGANCHE_FINAL\"] == 1)\n",
        "\n"
      ],
      "metadata": {
        "id": "wcKUt5IIRKB5"
      },
      "execution_count": null,
      "outputs": []
    },
    {
      "cell_type": "code",
      "source": [
        "df[\"SEG_REGLAS\"] = np.select(\n",
        "    [cond1, cond2, cond3, cond4],\n",
        "    [\"S1_Prime_Engaged_TicketMedioAlto\", \"S2_Medio_TicketAlto\", \"S3_AltoRiesgo_BajaFrecuencia\", \"S4_Reenganche\"],\n",
        "    default=\"S5_Resto\"\n",
        ")\n"
      ],
      "metadata": {
        "id": "GH0kFSBYRL9R"
      },
      "execution_count": null,
      "outputs": []
    },
    {
      "cell_type": "code",
      "source": [
        "seg_view = df.groupby(\"SEG_REGLAS\").agg(\n",
        "    n=(\"SEG_REGLAS\",\"size\"),\n",
        "    pct=(\"SEG_REGLAS\", lambda s: 100*len(s)/len(df)),\n",
        "    def12=(\"DEF12\",\"mean\"),\n",
        "    pdm=(\"PD_FINAL2\",\"mean\"),\n",
        "    ticket_med=(\"MONTO\",\"median\"),\n",
        "    abo_med=(\"MTO_ABO_AVGU12\",\"median\"),\n",
        "    frq_abos=(\"FRQ_ABO_GT100U12\",\"median\")\n",
        ").reset_index().sort_values(\"def12\")\n",
        "seg_view\n"
      ],
      "metadata": {
        "id": "D1LJy0kCRNOc"
      },
      "execution_count": null,
      "outputs": []
    },
    {
      "cell_type": "markdown",
      "source": [
        "## 4) 9-box GE–McKinsey"
      ],
      "metadata": {
        "id": "m_YBsuesRo3F"
      }
    },
    {
      "cell_type": "code",
      "source": [
        "# A = promedio min–max de [pct, ticket_med, abo_med]\n",
        "# F = promedio min–max de [(1-def12), frq_abos, (1-reeng)]\n",
        "\n",
        "reeng = df.groupby(\"SEG_REGLAS\")[\"FLG_REENGANCHE_FINAL\"].mean() if \"FLG_REENGANCHE_FINAL\" in df else None\n",
        "ge = seg_view.merge(reeng.rename(\"reeng\"), left_on=\"SEG_REGLAS\", right_index=True, how=\"left\") if reeng is not None else seg_view.assign(reeng=np.nan)\n",
        "\n",
        "def mm(x):\n",
        "    x = x.astype(float)\n",
        "    return (x - x.min())/(x.max()-x.min()) if x.max()!=x.min() else x*0\n",
        "\n",
        "A = pd.concat([mm(ge[\"pct\"]), mm(ge[\"ticket_med\"]), mm(ge[\"abo_med\"])], axis=1).mean(axis=1)\n",
        "F = pd.concat([mm(1-ge[\"def12\"]), mm(ge[\"frq_abos\"]), mm(1-ge[\"reeng\"].fillna(0))], axis=1).mean(axis=1)\n",
        "\n",
        "ge[\"Atractividad\"], ge[\"Fuerza\"] = A, F\n",
        "\n",
        "Qa, Qf = ge[\"Atractividad\"].quantile([1/3,2/3]), ge[\"Fuerza\"].quantile([1/3,2/3])\n",
        "def tercil(x,q): return 1 if x<q.iloc[0] else (3 if x>q.iloc[1] else 2)\n",
        "ge[\"A_3\"] = ge[\"Atractividad\"].apply(lambda x: tercil(x,Qa))\n",
        "ge[\"F_3\"] = ge[\"Fuerza\"].apply(lambda x: tercil(x,Qf))\n",
        "ge[\"Estrategia_GE\"] = np.where((ge[\"A_3\"]==3)&(ge[\"F_3\"]==3),\"Grow (Invertir)\",\n",
        "                        np.where((ge[\"A_3\"]==3)|(ge[\"F_3\"]==3),\"Selectivo\",\"Harvest / Mantener\"))\n",
        "\n",
        "ge[[\"SEG_REGLAS\",\"Atractividad\",\"Fuerza\",\"A_3\",\"F_3\",\"Estrategia_GE\",\"def12\",\"ticket_med\",\"abo_med\",\"frq_abos\",\"pct\"]]\n"
      ],
      "metadata": {
        "id": "XwSd_5VSRqSC"
      },
      "execution_count": null,
      "outputs": []
    },
    {
      "cell_type": "markdown",
      "source": [
        "## 5) RFM (quintiles + etiquetas)"
      ],
      "metadata": {
        "id": "L4jgcIxHR2SH"
      }
    },
    {
      "cell_type": "code",
      "source": [
        "def q5(s):\n",
        "    try:\n",
        "        return pd.qcut(s.rank(method=\"first\"), 5, labels=[1,2,3,4,5]).astype(float)\n",
        "    except Exception:\n",
        "        return pd.Series(np.nan, index=s.index)\n",
        "\n"
      ],
      "metadata": {
        "id": "_y8-h0XNR4k2"
      },
      "execution_count": null,
      "outputs": []
    },
    {
      "cell_type": "code",
      "source": [
        "df[\"R_q\"] = q5(df[\"R_ABO_AVGU06_AVGU12\"]) if \"R_ABO_AVGU06_AVGU12\" in df else np.nan\n",
        "df[\"F_q\"] = q5(df[\"FRQ_ABO_GT100U12\"]) if \"FRQ_ABO_GT100U12\" in df else np.nan\n",
        "df[\"M_q\"] = q5(df[\"MTO_ABO_AVGU12\"]) if \"MTO_ABO_AVGU12\" in df else np.nan\n",
        "df[\"RFM_score\"] = df[[\"R_q\",\"F_q\",\"M_q\"]].sum(axis=1)\n",
        "\n"
      ],
      "metadata": {
        "id": "F6n_NPpZR_YB"
      },
      "execution_count": null,
      "outputs": []
    },
    {
      "cell_type": "code",
      "source": [
        "def tag(r,f,m):\n",
        "    if r>=4 and f>=4 and m>=4: return \"RFM_PremiumActivo\"\n",
        "    if r<=2 and f<=2 and m<=2: return \"RFM_BajoValor_Latente\"\n",
        "    if f>=4 and m>=4:          return \"RFM_AltoValor_Retener\"\n",
        "    if r<=2 and f>=4:          return \"RFM_Antiguo_Frecuente_Reactivar\"\n",
        "    return \"RFM_Medio\"\n",
        "\n"
      ],
      "metadata": {
        "id": "p2uqjJulSAwi"
      },
      "execution_count": null,
      "outputs": []
    },
    {
      "cell_type": "code",
      "source": [
        "df[\"RFM_cluster\"] = [tag(r,f,m) for r,f,m in df[[\"R_q\",\"F_q\",\"M_q\"]].to_numpy()]\n",
        "\n"
      ],
      "metadata": {
        "id": "ompIc9eWSBnN"
      },
      "execution_count": null,
      "outputs": []
    },
    {
      "cell_type": "code",
      "source": [
        "rfm_view = df.groupby(\"RFM_cluster\").agg(\n",
        "    n=(\"RFM_cluster\",\"size\"),\n",
        "    pct=(\"RFM_cluster\", lambda s: 100*len(s)/len(df)),\n",
        "    def12=(\"DEF12\",\"mean\"),\n",
        "    R=(\"R_q\",\"median\"), F=(\"F_q\",\"median\"), M=(\"M_q\",\"median\"),\n",
        "    abo_med=(\"MTO_ABO_AVGU12\",\"median\")\n",
        ").reset_index().sort_values(\"def12\")\n",
        "rfm_view\n"
      ],
      "metadata": {
        "id": "W-5oQEowSCjy"
      },
      "execution_count": null,
      "outputs": []
    },
    {
      "cell_type": "markdown",
      "source": [
        "## 6) Salidas y decisiones"
      ],
      "metadata": {
        "id": "M5mllh-xSJS0"
      }
    },
    {
      "cell_type": "markdown",
      "source": [
        "- seg_view: lectura por segmento (tamaño, DEF12, ticket, abonos, frecuencia).\n",
        "\n",
        "- ge: ubicación 9-box + Estrategia_GE.\n",
        "\n",
        "- rfm_view: clusters RFM con DEF12.\n",
        "\n",
        "- Tarea en clase: elegir 2–3 decisiones (precio, verificación, límite, campaña)."
      ],
      "metadata": {
        "id": "RNlBc6uzSMM1"
      }
    },
    {
      "cell_type": "markdown",
      "source": [
        "---\n",
        "\n",
        "# Gracias por completar este laboratorio!\n",
        "\n",
        "---\n"
      ],
      "metadata": {
        "id": "lh00dMBLSkQS"
      }
    }
  ]
}